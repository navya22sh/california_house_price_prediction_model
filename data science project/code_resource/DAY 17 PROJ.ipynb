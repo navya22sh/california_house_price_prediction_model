{
 "cells": [
  {
   "cell_type": "markdown",
   "id": "2bbdc2d3-2257-4620-b051-44e5a4dac453",
   "metadata": {},
   "source": [
    "# Property price prediction project\n"
   ]
  },
  {
   "cell_type": "code",
   "execution_count": null,
   "id": "40688aeb-58ee-415e-b566-7174e17a5f24",
   "metadata": {},
   "outputs": [],
   "source": [
    "import IPython\n",
    "IPython.display.Image('https://na.rdcpix.com/307f0bb1b63fb77c661794a66a6b500aw-c525726921rd-w628_h354_r4_q80.jpg')"
   ]
  },
  {
   "cell_type": "markdown",
   "id": "bc7eca39-7c7f-499f-9824-7eca850e1463",
   "metadata": {},
   "source": [
    "# Problem Objective :\n",
    "\n",
    "The project aims at building a model of housing prices to predict median house values in California using the provided dataset. This model should learn from the data and be able to predict the median housing price in any district, given all the other metrics.\n",
    "\n",
    "Districts or block groups are the smallest geographical units for which the US Census Bureau publishes sample data (a block group typically has a population of 600 to 3,000 people). There are 20,640 districts in the project dataset."
   ]
  },
  {
   "cell_type": "markdown",
   "id": "03f706f5-27f2-4d64-81b6-3d701e802fa3",
   "metadata": {},
   "source": [
    "## step 1 : Import libraries"
   ]
  },
  {
   "cell_type": "code",
   "execution_count": null,
   "id": "261debf2-468c-4cab-93a5-9037bcba0e35",
   "metadata": {},
   "outputs": [],
   "source": [
    "import pandas as pd\n",
    "import numpy as np\n",
    "import matplotlib.pyplot as plt\n",
    "import seaborn  as sns \n",
    "import os \n",
    "from sklearn.linear_model import LinearRegression\n",
    "from sklearn.metrics import mean_absolute_error,mean_squared_error,root_mean_squared_error,r2_score\n",
    "# dataset\n",
    "from sklearn.datasets import fetch_california_housing\n",
    "\n",
    "import warnings\n",
    "warnings.filterwarnings('ignore')\n",
    "\n",
    "print('modules Loaded Successfully')"
   ]
  },
  {
   "cell_type": "markdown",
   "id": "7b5ec9c1-8292-47d5-9a7d-7c25bc158f2f",
   "metadata": {},
   "source": [
    "## step 2 : Load Data Create Df"
   ]
  },
  {
   "cell_type": "code",
   "execution_count": null,
   "id": "db8b362b-ed23-417f-a9c1-d8ca1ae2615f",
   "metadata": {},
   "outputs": [],
   "source": [
    "data_dict = fetch_california_housing()\n",
    "\n",
    "data_dict.keys()"
   ]
  },
  {
   "cell_type": "code",
   "execution_count": null,
   "id": "64fae0d5-589a-4ad6-9622-83ddd82e4b06",
   "metadata": {},
   "outputs": [],
   "source": [
    "print(data_dict['feature_names'])"
   ]
  },
  {
   "cell_type": "code",
   "execution_count": null,
   "id": "d3f4f9d5-a763-47b3-8ed5-aabfeb099c9a",
   "metadata": {},
   "outputs": [],
   "source": [
    "print(data_dict['target_names'])"
   ]
  },
  {
   "cell_type": "code",
   "execution_count": null,
   "id": "10716506-adf2-47e7-8905-460b453430da",
   "metadata": {},
   "outputs": [],
   "source": [
    "df = pd.DataFrame(data_dict['data'],\n",
    "                  columns= data_dict['feature_names'])\n",
    "\n",
    "df['MedHouseVal'] = data_dict['target']\n",
    "\n",
    "print('data Loaded Successfully')"
   ]
  },
  {
   "cell_type": "markdown",
   "id": "b97aa445-684b-4502-9895-a93c36d05f80",
   "metadata": {},
   "source": [
    "## Step 3: Understanding Data using EDA"
   ]
  },
  {
   "cell_type": "code",
   "execution_count": null,
   "id": "de6f0a05-84f0-4b88-a200-8294f3f66c16",
   "metadata": {},
   "outputs": [],
   "source": [
    "# shape \n",
    "df.shape"
   ]
  },
  {
   "cell_type": "code",
   "execution_count": null,
   "id": "d36094ac-c966-47d8-9c7a-0644ca66fc5b",
   "metadata": {},
   "outputs": [],
   "source": [
    "# info\n",
    "df.info()"
   ]
  },
  {
   "cell_type": "code",
   "execution_count": null,
   "id": "718a6893-6039-4c2a-93e0-d2bec96a0936",
   "metadata": {},
   "outputs": [],
   "source": [
    "# checking Null values \n",
    "df.isna().sum()"
   ]
  },
  {
   "cell_type": "code",
   "execution_count": null,
   "id": "d605bfee-3b67-46ca-96ea-a9f94457a7c4",
   "metadata": {},
   "outputs": [],
   "source": [
    "print(data_dict['DESCR'])"
   ]
  },
  {
   "cell_type": "code",
   "execution_count": null,
   "id": "47ce009b-db76-46b9-8f5a-b83fe90611d3",
   "metadata": {},
   "outputs": [],
   "source": [
    "# hundreds of thousands of dollars ($100,000) 1 lakh Dollars\n",
    "# average number of household members in a block \n",
    "df.sample()"
   ]
  },
  {
   "cell_type": "code",
   "execution_count": null,
   "id": "39dda379-23fa-463f-9a99-d2bc16964238",
   "metadata": {},
   "outputs": [],
   "source": [
    "# all data must be in Numerical, Dataset contains all values in numerical \n",
    "# we can proceed thhis for Analysis"
   ]
  },
  {
   "cell_type": "code",
   "execution_count": null,
   "id": "517d0f25-ecff-4d0c-9ba9-562a1f90f818",
   "metadata": {},
   "outputs": [],
   "source": [
    "# checking data distribution\n",
    "# it takes time \n",
    "sns.pairplot(data = df,corner= True)\n",
    "plt.show()"
   ]
  },
  {
   "cell_type": "code",
   "execution_count": null,
   "id": "b9e6d6f4-73ef-4c69-825e-fe6dd9c40a6b",
   "metadata": {},
   "outputs": [],
   "source": [
    "# checking data distribution\n",
    "\n",
    "plt.title('Features vs target Corr')\n",
    "sns.heatmap(df.corr().round(2),annot= True, cmap= 'mako')\n",
    "plt.show()"
   ]
  },
  {
   "cell_type": "code",
   "execution_count": null,
   "id": "517a0a65-2979-40fb-9fce-2194c6ce6966",
   "metadata": {},
   "outputs": [],
   "source": [
    "# data describe \n",
    "df.describe()"
   ]
  },
  {
   "cell_type": "code",
   "execution_count": null,
   "id": "84007d13-716c-4af0-9142-7cf74064c981",
   "metadata": {},
   "outputs": [],
   "source": [
    "# histogram \n",
    "plt.figure(figsize = (15,12))\n",
    "for i,j in enumerate(df.columns):\n",
    "  plt.subplot(3,3, i+1)\n",
    "  plt.hist(df[j],color = 'blue', alpha = 0.3)\n",
    "  plt.title(j+' Analysis')\n",
    "plt.show()\n"
   ]
  },
  {
   "cell_type": "code",
   "execution_count": null,
   "id": "7b55659e-15da-4dd9-af40-fe4a7399003a",
   "metadata": {},
   "outputs": [],
   "source": [
    "# Distribution of target Value MedHouseVal vs MedInc\n",
    "\n",
    "sns.jointplot(data=df, x= 'MedHouseVal',y='MedInc')\n",
    "plt.show()"
   ]
  },
  {
   "cell_type": "code",
   "execution_count": null,
   "id": "399b6ebe-01cc-41e9-b144-f6afa9dd995a",
   "metadata": {},
   "outputs": [],
   "source": [
    "# sns.regplot(data = df, x = 'MedHouseVal', y = 'MedInc')\n",
    "# plt.show()"
   ]
  },
  {
   "cell_type": "code",
   "execution_count": null,
   "id": "af82403a-861f-40d2-8fae-924b46558951",
   "metadata": {},
   "outputs": [],
   "source": [
    "# sns.histplot(data = df, x = 'MedHouseVal', color = 'b')\n",
    "# sns.kdeplot(data = df, x = 'MedHouseVal',color  = 'r')\n",
    "# plt.show()"
   ]
  },
  {
   "cell_type": "code",
   "execution_count": null,
   "id": "f2ee4235-39c2-4b6f-98a3-3affebc0c861",
   "metadata": {},
   "outputs": [],
   "source": [
    "plt.title('MedHouseVal Distribution')\n",
    "sns.histplot(data = df, x = 'MedHouseVal', color = 'b',kde= True)\n",
    "plt.show()"
   ]
  },
  {
   "cell_type": "code",
   "execution_count": null,
   "id": "afa7b01b-68c2-46f0-9fd5-2b64eaf42164",
   "metadata": {},
   "outputs": [],
   "source": [
    "df['MedHouseVal'].describe()\n",
    "# 75% price is less than 2.64 lakh dollar "
   ]
  },
  {
   "cell_type": "markdown",
   "id": "45d0389d-19eb-45ac-b0e2-73b466230cf1",
   "metadata": {},
   "source": [
    "## Step 4: Feature Engineering and Preprocessing"
   ]
  },
  {
   "cell_type": "code",
   "execution_count": null,
   "id": "ca39dc6f-c53f-4be6-8689-00e416211cad",
   "metadata": {},
   "outputs": [],
   "source": [
    "# convert data to same scale for better prediction\n",
    "#1. normalisation = minmax_scale ;; formula : Xnew= X-Xmin/Xmax-Xmin\n",
    "#2. standarization :\n"
   ]
  },
  {
   "cell_type": "code",
   "execution_count": null,
   "id": "33ce1ca5-e329-4450-b6bb-8ed39b7e7eac",
   "metadata": {},
   "outputs": [],
   "source": [
    "from sklearn.preprocessing import MinMaxScaler\n",
    "\n",
    "X = df.iloc[:,:-1]\n",
    "y = df['MedHouseVal']\n",
    "\n",
    "scaler = MinMaxScaler()\n",
    "\n",
    "scaler.fit(X) #learning: fit data in o to 1 \n",
    "\n",
    "X_scaled = scaler.transform(X)\n",
    "\n",
    "print('Done')\n"
   ]
  },
  {
   "cell_type": "code",
   "execution_count": null,
   "id": "57982c92-ffc9-44b4-8c65-9746578e7292",
   "metadata": {},
   "outputs": [],
   "source": [
    "X_scaled"
   ]
  },
  {
   "cell_type": "code",
   "execution_count": null,
   "id": "8bed8bcc-1b95-4ed4-903b-ffe7feee34eb",
   "metadata": {},
   "outputs": [],
   "source": [
    "from sklearn.model_selection import train_test_split\n",
    "X_train,X_test,y_train,y_test=train_test_split(X_scaled,y,test_size=.2,random_state=50)"
   ]
  },
  {
   "cell_type": "code",
   "execution_count": null,
   "id": "e07b790a-a55f-412a-868f-de3dd3a9615e",
   "metadata": {},
   "outputs": [],
   "source": [
    "a,b,c,d = [23,534,6,65]\n",
    "print(d)"
   ]
  },
  {
   "cell_type": "code",
   "execution_count": null,
   "id": "a7c133ae-a5ac-48f1-b699-f8d4ec2760cc",
   "metadata": {},
   "outputs": [],
   "source": [
    "import random\n",
    "random.seed(576)\n",
    "random.randint(1,50)"
   ]
  },
  {
   "cell_type": "code",
   "execution_count": null,
   "id": "34467f04-976a-4fd7-a090-3d0072f31694",
   "metadata": {},
   "outputs": [],
   "source": [
    "print('shape of Xtrain',X_train.shape)\n",
    "print('shape of X_train',X_test.shape)\n",
    "print('shape of y_train',y_train.shape)\n",
    "print('shape of y_test',y_test.shape)"
   ]
  },
  {
   "cell_type": "code",
   "execution_count": null,
   "id": "f444c987-24bd-444e-a0c5-5280f4c92b30",
   "metadata": {},
   "outputs": [],
   "source": [
    "df.shape"
   ]
  },
  {
   "cell_type": "markdown",
   "id": "299cdabc-9f92-4909-a9f1-2d3e26936100",
   "metadata": {},
   "source": [
    "LINEAR MODEL USING LINEAR REGRESSION<!--  -->"
   ]
  },
  {
   "cell_type": "code",
   "execution_count": null,
   "id": "6cad7db6-6823-41d8-8704-afa0493676b1",
   "metadata": {},
   "outputs": [],
   "source": [
    "from sklearn.linear_model import LinearRegression\n",
    "lr_model=LinearRegression()\n",
    "lr_model.fit(X_train,y_train)"
   ]
  },
  {
   "cell_type": "code",
   "execution_count": null,
   "id": "3ab370e0-73f6-42bc-be4d-6630c7a41ad2",
   "metadata": {},
   "outputs": [],
   "source": [
    "y_pred=lr_model.predict(X_test)"
   ]
  },
  {
   "cell_type": "code",
   "execution_count": null,
   "id": "ff4a598a-0371-4cfa-a0fd-7cf853c403b1",
   "metadata": {},
   "outputs": [],
   "source": [
    "lr_compare_df=pd.DataFrame({'actual house price':y_test,\n",
    "              'predicted house price':y_pred})\n",
    "print('done')"
   ]
  },
  {
   "cell_type": "code",
   "execution_count": null,
   "id": "19c59fa6-2dcd-47b3-902f-647997ccafac",
   "metadata": {},
   "outputs": [],
   "source": [
    "lr_compare_df"
   ]
  },
  {
   "cell_type": "code",
   "execution_count": null,
   "id": "c15903c2-7773-4028-8ccd-ea6da08add37",
   "metadata": {},
   "outputs": [],
   "source": [
    "lr_mae=mean_absolute_error(y_test,y_pred)\n",
    "print('Lr MAE',lr_mae)"
   ]
  },
  {
   "cell_type": "code",
   "execution_count": null,
   "id": "78624b38-1e13-4cd1-bc0d-22d55aa00f47",
   "metadata": {},
   "outputs": [],
   "source": [
    "lr_mse=mean_squared_error(y_test,y_pred)\n",
    "print('lr MSE',lr_mse)"
   ]
  },
  {
   "cell_type": "code",
   "execution_count": null,
   "id": "cdcb8d1f-10a2-439f-9a87-d024c195f10a",
   "metadata": {},
   "outputs": [],
   "source": [
    "lr_rmse=root_mean_squared_error(y_test,y_pred)\n",
    "print('lr RMSE',lr_rmse)"
   ]
  },
  {
   "cell_type": "code",
   "execution_count": null,
   "id": "f0530d83-8969-4e66-ae30-de0d5255cd5f",
   "metadata": {},
   "outputs": [],
   "source": [
    "lr_train_score = lr_model.score(X_train,y_train)\n",
    "print('training score',lr_train_score)\n",
    "\n",
    "lr_test_score = lr_model.score(X_test,y_test)\n",
    "print('testing score',lr_test_score)"
   ]
  },
  {
   "cell_type": "code",
   "execution_count": null,
   "id": "07a02ea5-c9c1-412a-8fa9-dd752b6dd268",
   "metadata": {},
   "outputs": [],
   "source": [
    "# model Score : apx:60% "
   ]
  },
  {
   "cell_type": "code",
   "execution_count": null,
   "id": "b51ef05a-c134-4a9b-8300-35af2103033e",
   "metadata": {},
   "outputs": [],
   "source": [
    "# Checking VIF and Drop column if value vif>10\n"
   ]
  },
  {
   "cell_type": "code",
   "execution_count": null,
   "id": "e207ea7f-edc8-4787-a7d5-daed6af0b7ef",
   "metadata": {},
   "outputs": [],
   "source": [
    "X_train_df = pd.DataFrame(X_train,columns = data_dict['feature_names'])\n",
    "X_train_df.sample()"
   ]
  },
  {
   "cell_type": "code",
   "execution_count": null,
   "id": "660eb3f7-bf00-40c0-967b-fbe5d23999a0",
   "metadata": {},
   "outputs": [],
   "source": [
    "from statsmodels.stats.outliers_influence import variance_inflation_factor\n",
    "\n",
    "X_train_df['intercept'] = 1\n",
    "\n",
    "X_train_df.sample()\n",
    "# multicollinearity means x depends on x.\n",
    "# Just to understand we add intercept as C in formula y = mx+C."
   ]
  },
  {
   "cell_type": "code",
   "execution_count": null,
   "id": "4fc64669-66c6-482e-a51e-2ff6c4860409",
   "metadata": {},
   "outputs": [],
   "source": [
    "X_train_df.shape[1]"
   ]
  },
  {
   "cell_type": "code",
   "execution_count": null,
   "id": "a225880c-e86a-4800-b415-101e3e078313",
   "metadata": {},
   "outputs": [],
   "source": [
    "X_train_df.columns"
   ]
  },
  {
   "cell_type": "code",
   "execution_count": null,
   "id": "c612f72f-3be8-4e80-8bca-bec21ae3dde3",
   "metadata": {},
   "outputs": [],
   "source": [
    "X_train_df.values.shape"
   ]
  },
  {
   "cell_type": "raw",
   "id": "89eb63a9-9db4-4437-b798-abfe5c80c9c5",
   "metadata": {},
   "source": []
  },
  {
   "cell_type": "code",
   "execution_count": null,
   "id": "483b9efd-1ce7-40c0-b24c-e97d8cc9082e",
   "metadata": {},
   "outputs": [],
   "source": [
    "vif_df = pd.DataFrame()\n",
    "vif_df['features'] = list(data_dict['feature_names']) + ['Intercept']\n",
    "\n",
    "vif_value = [variance_inflation_factor(X_train_df.values,i)for i in range(X_train_df.shape[1])]\n",
    "vif_df['VIF factor'] = vif_value\n",
    "\n",
    "\n",
    "vif_df.sort_values(by = 'VIF factor',ascending=False)"
   ]
  },
  {
   "cell_type": "code",
   "execution_count": null,
   "id": "a8875753-af23-4594-a3b1-d18072377c9e",
   "metadata": {},
   "outputs": [],
   "source": []
  },
  {
   "cell_type": "code",
   "execution_count": null,
   "id": "a4b794e6-65da-45ab-adeb-22d9ea546d72",
   "metadata": {},
   "outputs": [],
   "source": [
    "col=list(X.columns)\n",
    "col.remove('Latitude')\n",
    "X_train_vif=X_train_df[col]\n",
    "X_train_vif.sample()\n"
   ]
  },
  {
   "cell_type": "code",
   "execution_count": null,
   "id": "84d94969-2588-40f9-9593-e60a1260b109",
   "metadata": {},
   "outputs": [],
   "source": [
    "def built_model(ml_model, col):\n",
    "    new_X_train = pd.DataFrame(X_train, columns = data_dict['feature_names'])\n",
    "    final_X_train = new_X_train[col]\n",
    "\n",
    "    new_X_test =  pd.DataFrame(X_test, columns = data_dict['feature_names'])\n",
    "    final_X_test =new_X_test[col]\n",
    "\n",
    "    machine_model = ml_model()\n",
    "    machine_model.fit(final_X_train,y_train)\n",
    "\n",
    "    model_y_pred = machine_model.predict(final_X_test)\n",
    "    \n",
    "    model_train_score = machine_model.score(final_X_train,y_train)\n",
    "    model_test_score = machine_model.score(final_X_test,y_test)\n",
    "\n",
    "    model_mae_error = mean_absolute_error(y_test,model_y_pred)\n",
    "    model_mse_error = mean_squared_error(y_test,model_y_pred)\n",
    "    model_rmse_error = root_mean_squared_error(y_test,model_y_pred)\n",
    "    model_r2_score = r2_score(y_test,model_y_pred)\n",
    "    \n",
    "    model_metrics = {'model training score':model_train_score,\n",
    "                    'model test score':model_test_score,\n",
    "                    'MAE Error':model_mae_error,\n",
    "                    'MSE Error':model_mse_error,\n",
    "                    'RMSE Error':model_rmse_error,\n",
    "                     'R2 Score':model_r2_score}\n",
    "\n",
    "    model_matrix = pd.DataFrame(model_metrics,index = [1])\n",
    "\n",
    "    return model_matrix,machine_model"
   ]
  },
  {
   "cell_type": "code",
   "execution_count": null,
   "id": "bba00b92-f474-446f-a82f-38576d5f7844",
   "metadata": {},
   "outputs": [],
   "source": [
    "print(col)"
   ]
  },
  {
   "cell_type": "code",
   "execution_count": null,
   "id": "de66e922-4f75-4c1d-a490-76e796547441",
   "metadata": {},
   "outputs": [],
   "source": [
    "ml_model=LinearRegression\n",
    "built_model(ml_model,col)[0]"
   ]
  },
  {
   "cell_type": "code",
   "execution_count": null,
   "id": "0179bc18-0b58-49f7-9592-e660221ac03d",
   "metadata": {},
   "outputs": [],
   "source": [
    "from sklearn.linear_model import Lasso,Ridge"
   ]
  },
  {
   "cell_type": "markdown",
   "id": "2ddcaa9f-25a6-4a49-a32b-8746e6bf24d7",
   "metadata": {},
   "source": []
  },
  {
   "cell_type": "code",
   "execution_count": null,
   "id": "0a4ee28a-f663-4d60-989a-584e783e9486",
   "metadata": {},
   "outputs": [],
   "source": [
    "ml_model = Ridge\n",
    "\n",
    "built_model(ml_model,col)[0]"
   ]
  },
  {
   "cell_type": "code",
   "execution_count": null,
   "id": "a3579dd8-d0a0-4354-821d-e82f5e8f5cb6",
   "metadata": {},
   "outputs": [],
   "source": [
    "col =['MedInc','HouseAge','AveRooms','AveBedrms','Population','AveOccup']"
   ]
  },
  {
   "cell_type": "code",
   "execution_count": null,
   "id": "a51ad6fc-1c40-47f9-bb5b-a2ae73e0e572",
   "metadata": {},
   "outputs": [],
   "source": [
    "all_model=[LinearRegression,Ridge]\n",
    "from sklearn.preprocessing import StandardScaler\n",
    "sc=StandardScaler()\n",
    "ss_X = sc.fit_transform(X)\n",
    "\n",
    "i=1\n",
    "while True:\n",
    "    X_train,X_test,y_train,y_test = train_test_split(ss_X,y,random_state=i,test_size=0.1)\n",
    "    i += 1\n",
    "    temp_df,final_model=built_model(Ridge,col)\n",
    "    score = temp_df['model test score'].values[0]\n",
    "    print('Score is zero',score)\n",
    "    if score>=.6:\n",
    "        print('best random state',i)\n",
    "        display(temp_df)\n",
    "        break\n",
    "    display(clear=True)"
   ]
  },
  {
   "cell_type": "code",
   "execution_count": null,
   "id": "1d2b742c-5584-4bf6-bec6-203a04d5b705",
   "metadata": {},
   "outputs": [],
   "source": [
    "X_train,X_test,y_train,y_test = train_test_split(ss_X,y,random_state=178,test_size=0.1)\n",
    "built_model(Ridge,col)[0]"
   ]
  },
  {
   "cell_type": "code",
   "execution_count": null,
   "id": "47f01094-baa7-46ff-a740-b4c78bf5b60a",
   "metadata": {},
   "outputs": [],
   "source": [
    "final_model"
   ]
  },
  {
   "cell_type": "code",
   "execution_count": null,
   "id": "5bfcd0dd-0b66-4769-9da4-49a228cbe67d",
   "metadata": {},
   "outputs": [],
   "source": [
    "import pickle\n",
    "\n",
    "with open('house_priced _pred_ridge_model.pkl','wb')as f:\n",
    "    pickle.dump(final_model,f)\n",
    "\n",
    "with open('sc_scalar.pkl','wb')as f:\n",
    "          pickle.dump(sc,f)\n",
    "print('ML Model saves successfully')          "
   ]
  },
  {
   "cell_type": "code",
   "execution_count": null,
   "id": "cb33aeb8-cabd-469e-9a1e-5aa1d332b45f",
   "metadata": {},
   "outputs": [],
   "source": [
    "print('123')"
   ]
  },
  {
   "cell_type": "markdown",
   "id": "abc5efc3-60fe-4b46-afed-2947f210c498",
   "metadata": {},
   "source": [
    "# WEBSITE BUILDING AND LOCAL HOST DEPLOYMENT STEP 8"
   ]
  },
  {
   "cell_type": "code",
   "execution_count": null,
   "id": "3d129e97-e386-4a80-ad8d-be684e971459",
   "metadata": {
    "scrolled": true
   },
   "outputs": [],
   "source": [
    "# !pip install streamlit"
   ]
  },
  {
   "cell_type": "code",
   "execution_count": null,
   "id": "bd5366fd-2c71-4bf4-b7d5-9d81c3b5b5ff",
   "metadata": {},
   "outputs": [],
   "source": [
    "#st.title('california Housing price prediction')\n"
   ]
  },
  {
   "cell_type": "code",
   "execution_count": null,
   "id": "fce89467-c72d-48e9-8f13-56e7756d1da6",
   "metadata": {},
   "outputs": [],
   "source": [
    "import os\n",
    "os.getcwd()"
   ]
  },
  {
   "cell_type": "code",
   "execution_count": null,
   "id": "ec55abb9-bdb7-495c-a7ad-5520501581a8",
   "metadata": {},
   "outputs": [],
   "source": [
    "# import streamlit as st"
   ]
  },
  {
   "cell_type": "code",
   "execution_count": null,
   "id": "fc37df26-3c00-44b0-9194-c8b8f48c72db",
   "metadata": {},
   "outputs": [],
   "source": [
    "col"
   ]
  },
  {
   "cell_type": "code",
   "execution_count": null,
   "id": "f508d35c-a6b4-4fac-90d0-c85e3ae64616",
   "metadata": {},
   "outputs": [],
   "source": [
    "df[col]"
   ]
  },
  {
   "cell_type": "code",
   "execution_count": null,
   "id": "febd277b-9072-4533-ae70-a14ac10940ab",
   "metadata": {},
   "outputs": [],
   "source": [
    "df.to_csv('california.csv')"
   ]
  },
  {
   "cell_type": "code",
   "execution_count": null,
   "id": "4208d43e-ffc3-470b-8213-29b8d5711ca4",
   "metadata": {},
   "outputs": [],
   "source": [
    "for i in df[col]:\n",
    "    min_value, max_value = df[i].agg(['min','max'])\n",
    "\n",
    "    print('min',i,min_value)\n",
    "    print('max',i,max_value)"
   ]
  },
  {
   "cell_type": "code",
   "execution_count": null,
   "id": "320571c7-f4d0-48a2-8479-e77f293cf8cf",
   "metadata": {},
   "outputs": [],
   "source": [
    "# !streamlit run house.py"
   ]
  },
  {
   "cell_type": "code",
   "execution_count": null,
   "id": "f15522a8-8db6-4420-9241-58708b810141",
   "metadata": {},
   "outputs": [],
   "source": []
  },
  {
   "cell_type": "markdown",
   "id": "8a584de7-efaa-4901-9f02-2a844e8bc308",
   "metadata": {},
   "source": [
    "# step 9 live deployment using streamlift"
   ]
  },
  {
   "cell_type": "code",
   "execution_count": null,
   "id": "58af332e-f5db-4f19-ada7-e167a925687c",
   "metadata": {},
   "outputs": [],
   "source": [
    "# import streamlit as st\n",
    "# import pandas as pd\n",
    "# import random\n",
    "# from sklearn.preprocessing import StandardScaler\n",
    "# import pickle"
   ]
  },
  {
   "cell_type": "code",
   "execution_count": null,
   "id": "9ced8d93-5708-47fa-a40b-232110b291fa",
   "metadata": {},
   "outputs": [],
   "source": [
    "# github : folder housing price project\n",
    "# requirements.txt = we will write those modules which is important for app.py to run"
   ]
  },
  {
   "cell_type": "code",
   "execution_count": null,
   "id": "8de9b8fe-600f-407c-a0c0-afabe72f7b84",
   "metadata": {},
   "outputs": [],
   "source": [
    "pd.__version__"
   ]
  },
  {
   "cell_type": "code",
   "execution_count": null,
   "id": "fc429572-8b74-49d8-9e68-0304fffa1aa9",
   "metadata": {},
   "outputs": [],
   "source": [
    "st.__version__"
   ]
  },
  {
   "cell_type": "code",
   "execution_count": null,
   "id": "6e0c2997-a8e1-4078-a173-4f38ba2d7e80",
   "metadata": {},
   "outputs": [],
   "source": []
  }
 ],
 "metadata": {
  "kernelspec": {
   "display_name": "Python 3 (ipykernel)",
   "language": "python",
   "name": "python3"
  },
  "language_info": {
   "codemirror_mode": {
    "name": "ipython",
    "version": 3
   },
   "file_extension": ".py",
   "mimetype": "text/x-python",
   "name": "python",
   "nbconvert_exporter": "python",
   "pygments_lexer": "ipython3",
   "version": "3.13.5"
  }
 },
 "nbformat": 4,
 "nbformat_minor": 5
}
